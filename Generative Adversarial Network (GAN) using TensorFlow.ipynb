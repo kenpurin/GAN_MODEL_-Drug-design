{
  "nbformat": 4,
  "nbformat_minor": 0,
  "metadata": {
    "colab": {
      "name": "Untitled0.ipynb",
      "provenance": [],
      "authorship_tag": "ABX9TyPbqxQljDSgYPwaOwBuc5Zz",
      "include_colab_link": true
    },
    "kernelspec": {
      "name": "python3",
      "display_name": "Python 3"
    }
  },
  "cells": [
    {
      "cell_type": "markdown",
      "metadata": {
        "id": "view-in-github",
        "colab_type": "text"
      },
      "source": [
        "<a href=\"https://colab.research.google.com/github/kenpurin/GAN_MODEL_Drug-design/blob/master/Generative%20Adversarial%20Network%20(GAN)%20using%20TensorFlow.ipynb\" target=\"_parent\"><img src=\"https://colab.research.google.com/assets/colab-badge.svg\" alt=\"Open In Colab\"/></a>"
      ]
    },
    {
      "cell_type": "markdown",
      "metadata": {
        "id": "6Y9EGcgVYDnS",
        "colab_type": "text"
      },
      "source": [
        "# Building a simple Generative Adversarial Network (GAN) using TensorFlow \n",
        "\n",
        "\n"
      ]
    },
    {
      "cell_type": "markdown",
      "metadata": {
        "id": "KsNeKOyPYNU7",
        "colab_type": "text"
      },
      "source": [
        "https://blog.paperspace.com/implementing-gans-in-tensorflow/"
      ]
    },
    {
      "cell_type": "code",
      "metadata": {
        "id": "PgZWCmWaYK__",
        "colab_type": "code",
        "colab": {}
      },
      "source": [
        "import numpy as np\n",
        "\n",
        "def get_y(x):\n",
        "    return 10 + x*x\n",
        "\n",
        "\n",
        "def sample_data(n=10000, scale=100):\n",
        "    data = []\n",
        "\n",
        "    x = scale*(np.random.random_sample((n,))-0.5)\n",
        "\n",
        "    for i in range(n):\n",
        "        yi = get_y(x[i])\n",
        "        data.append([x[i], yi])\n",
        "\n",
        "    return np.array(data)\n"
      ],
      "execution_count": 1,
      "outputs": []
    },
    {
      "cell_type": "code",
      "metadata": {
        "id": "XuB74PHwYCNE",
        "colab_type": "code",
        "colab": {}
      },
      "source": [
        ""
      ],
      "execution_count": null,
      "outputs": []
    }
  ]
}